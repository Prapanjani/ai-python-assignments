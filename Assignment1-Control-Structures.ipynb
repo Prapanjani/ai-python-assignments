{
 "cells": [
  {
   "cell_type": "code",
   "execution_count": 1,
   "id": "db249e78-d5fe-4462-a484-cbc150cf6c44",
   "metadata": {},
   "outputs": [
    {
     "name": "stdout",
     "output_type": "stream",
     "text": [
      "Welcome to Assignment-1\n"
     ]
    }
   ],
   "source": [
    "print(\"Welcome to Assignment-1\")"
   ]
  },
  {
   "cell_type": "code",
   "execution_count": 5,
   "id": "5f8f0754-e107-47a2-bee9-44f3c7356cd3",
   "metadata": {},
   "outputs": [
    {
     "name": "stdout",
     "output_type": "stream",
     "text": [
      "Num1= 10\n",
      "Num2= 30\n",
      "Add= 40\n"
     ]
    }
   ],
   "source": [
    "num1 = 10\n",
    "num2 = 30\n",
    "add = num1 + num2\n",
    "print(\"Num1=\", num1)\n",
    "print(\"Num2=\", num2)\n",
    "print(\"Add=\", add)"
   ]
  },
  {
   "cell_type": "code",
   "execution_count": 6,
   "id": "651e5ef4-36ba-4b59-87d9-719b7eb9e6a2",
   "metadata": {},
   "outputs": [
    {
     "name": "stdin",
     "output_type": "stream",
     "text": [
      "Enter the BMI Index: 28\n"
     ]
    },
    {
     "name": "stdout",
     "output_type": "stream",
     "text": [
      "Overweight\n"
     ]
    }
   ],
   "source": [
    "bmi = int(input(\"Enter the BMI Index:\"))\n",
    "if(bmi < 18):\n",
    "    print(\"Underweight\")\n",
    "elif(bmi >= 18 and bmi < 25):\n",
    "    print(\"Normal\")\n",
    "elif(bmi >= 25 and bmi < 30):\n",
    "    print(\"Overweight\")\n",
    "else:\n",
    "    print(\"Obesity\")"
   ]
  },
  {
   "cell_type": "code",
   "execution_count": null,
   "id": "8ad1f2c1-67e4-4fa8-9748-1f677bf4ee73",
   "metadata": {},
   "outputs": [],
   "source": []
  }
 ],
 "metadata": {
  "kernelspec": {
   "display_name": "Python 3 (ipykernel)",
   "language": "python",
   "name": "python3"
  },
  "language_info": {
   "codemirror_mode": {
    "name": "ipython",
    "version": 3
   },
   "file_extension": ".py",
   "mimetype": "text/x-python",
   "name": "python",
   "nbconvert_exporter": "python",
   "pygments_lexer": "ipython3",
   "version": "3.13.5"
  }
 },
 "nbformat": 4,
 "nbformat_minor": 5
}
