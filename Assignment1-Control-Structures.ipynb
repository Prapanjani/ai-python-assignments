{
 "cells": [
  {
   "cell_type": "code",
   "execution_count": 2,
   "id": "8bc4cdec-a15f-4c7b-9674-4b636165eb6a",
   "metadata": {},
   "outputs": [
    {
     "name": "stdout",
     "output_type": "stream",
     "text": [
      "Welcome to Assignment-1\n"
     ]
    }
   ],
   "source": [
    "print(\"Welcome to Assignment-1\")"
   ]
  },
  {
   "cell_type": "code",
   "execution_count": 12,
   "id": "d32c6e2f-be86-4925-90e6-198c0b9798e3",
   "metadata": {},
   "outputs": [
    {
     "name": "stdout",
     "output_type": "stream",
     "text": [
      "Num1= 10\n",
      "Num2= 30\n",
      "Add= 40\n"
     ]
    }
   ],
   "source": [
    "num1 = 10;\n",
    "num2 = 30;\n",
    "add = num1 + num2;\n",
    "print(\"Num1=\", num1);\n",
    "print(\"Num2=\", num2);\n",
    "print(\"Add=\", add);"
   ]
  },
  {
   "cell_type": "code",
   "execution_count": 70,
   "id": "186a344f-6c44-435d-8424-17afc3b4245d",
   "metadata": {},
   "outputs": [
    {
     "name": "stdin",
     "output_type": "stream",
     "text": [
      "Enter the BMI Index: 23\n"
     ]
    },
    {
     "name": "stdout",
     "output_type": "stream",
     "text": [
      "Normal\n"
     ]
    }
   ],
   "source": [
    "bmi = int(input(\"Enter the BMI Index:\"));\n",
    "if(bmi < 18):\n",
    "    print(\"Underweight\");\n",
    "elif(bmi >= 18 and bmi < 25):\n",
    "    print(\"Normal\");\n",
    "elif(bmi >= 25 and bmi < 30):\n",
    "    print(\"Overweight\");\n",
    "else:\n",
    "    print(\"Obesity\");"
   ]
  },
  {
   "cell_type": "code",
   "execution_count": null,
   "id": "e2f8bcb4-e359-45f0-88ea-80b0d0ea013f",
   "metadata": {},
   "outputs": [],
   "source": []
  }
 ],
 "metadata": {
  "kernelspec": {
   "display_name": "Python 3 (ipykernel)",
   "language": "python",
   "name": "python3"
  },
  "language_info": {
   "codemirror_mode": {
    "name": "ipython",
    "version": 3
   },
   "file_extension": ".py",
   "mimetype": "text/x-python",
   "name": "python",
   "nbconvert_exporter": "python",
   "pygments_lexer": "ipython3",
   "version": "3.12.7"
  }
 },
 "nbformat": 4,
 "nbformat_minor": 5
}
