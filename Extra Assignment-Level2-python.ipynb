{
 "cells": [
  {
   "cell_type": "code",
   "execution_count": 2,
   "id": "54001459-8277-4078-af1a-847b50237086",
   "metadata": {},
   "outputs": [
    {
     "name": "stdout",
     "output_type": "stream",
     "text": [
      "0\n",
      "1\n",
      "2\n",
      "3\n",
      "4\n",
      "5\n",
      "6\n",
      "7\n",
      "8\n",
      "9\n",
      "10\n",
      "11\n",
      "12\n",
      "13\n",
      "14\n",
      "15\n",
      "16\n",
      "17\n",
      "18\n",
      "19\n"
     ]
    }
   ],
   "source": [
    "for item in range(20):\n",
    "    print(item);"
   ]
  },
  {
   "cell_type": "code",
   "execution_count": 6,
   "id": "a1a0c938-0a77-40aa-810c-20a7fa8864ab",
   "metadata": {},
   "outputs": [
    {
     "name": "stdout",
     "output_type": "stream",
     "text": [
      "10\n",
      "11\n",
      "12\n",
      "13\n",
      "14\n",
      "15\n",
      "16\n",
      "17\n",
      "18\n",
      "19\n"
     ]
    }
   ],
   "source": [
    "for item in range(10, 20):\n",
    "    print(item);"
   ]
  },
  {
   "cell_type": "code",
   "execution_count": 10,
   "id": "af9686dd-875b-490a-bd2f-99841fd252f0",
   "metadata": {},
   "outputs": [
    {
     "name": "stdout",
     "output_type": "stream",
     "text": [
      "[10, 20, 14, 55, 43, 87, 76]\n",
      "Number of item in the List2:\n",
      " 7\n"
     ]
    }
   ],
   "source": [
    "list = [10, 20, 14, 55, 43, 87, 76];\n",
    "print(list);\n",
    "print(\"Number of item in the List2:\\n\", len(list));"
   ]
  },
  {
   "cell_type": "code",
   "execution_count": 12,
   "id": "0b66c394-587f-4578-84ad-f0cce5744975",
   "metadata": {},
   "outputs": [
    {
     "name": "stdout",
     "output_type": "stream",
     "text": [
      "Artificial Intelligence\n",
      "A\n",
      "r\n",
      "t\n",
      "i\n",
      "f\n",
      "i\n",
      "c\n",
      "i\n",
      "a\n",
      "l\n",
      " \n",
      "I\n",
      "n\n",
      "t\n",
      "e\n",
      "l\n",
      "l\n",
      "i\n",
      "g\n",
      "e\n",
      "n\n",
      "c\n",
      "e\n"
     ]
    }
   ],
   "source": [
    "ai = 'Artificial Intelligence';\n",
    "print(ai);\n",
    "for item in ai:\n",
    "    print(item);"
   ]
  },
  {
   "cell_type": "code",
   "execution_count": 14,
   "id": "f2ab3de7-9ea9-4c3b-9d58-7133bf53cbd3",
   "metadata": {},
   "outputs": [
    {
     "name": "stdout",
     "output_type": "stream",
     "text": [
      "-Your Name-\n",
      "-Your Age\n",
      "-Your Profession\n"
     ]
    }
   ],
   "source": [
    "print('-Your Name-');\n",
    "print('-Your Age');\n",
    "print('-Your Profession');"
   ]
  },
  {
   "cell_type": "code",
   "execution_count": 16,
   "id": "9dd3f9b4-e3b4-4616-be9e-c596b8795ee4",
   "metadata": {},
   "outputs": [
    {
     "name": "stdout",
     "output_type": "stream",
     "text": [
      "(1, 'Welcome', 2, 'Hope')\n"
     ]
    }
   ],
   "source": [
    "tup = (1, 'Welcome', 2, 'Hope');\n",
    "print(tup);"
   ]
  },
  {
   "cell_type": "code",
   "execution_count": 18,
   "id": "b36573f9-9374-4e03-90d6-072a6b7c7909",
   "metadata": {},
   "outputs": [
    {
     "name": "stdout",
     "output_type": "stream",
     "text": [
      "((0, 1, 2, 3), ('Python', 'Hope'))\n"
     ]
    }
   ],
   "source": [
    "tuple1 = (0,1,2,3);\n",
    "tuple2 = ('Python', 'Hope');\n",
    "tuple3 = (tuple1, tuple2);\n",
    "print(tuple3);"
   ]
  },
  {
   "cell_type": "code",
   "execution_count": 26,
   "id": "2590aa3e-b83f-434b-8466-4ca4a043ea68",
   "metadata": {},
   "outputs": [
    {
     "name": "stdout",
     "output_type": "stream",
     "text": [
      "19 is odd\n",
      "25 is odd\n",
      "1 is odd\n"
     ]
    }
   ],
   "source": [
    "tuple4 = (20,10,16,19,25,1,276,188);\n",
    "for item in tuple4:\n",
    "    if(item % 2 != 0):\n",
    "        print(item, 'is odd');"
   ]
  },
  {
   "cell_type": "code",
   "execution_count": 28,
   "id": "82b68389-2ba1-4c02-8e71-1c0191be7ae4",
   "metadata": {},
   "outputs": [
    {
     "name": "stdout",
     "output_type": "stream",
     "text": [
      "20 is even\n",
      "10 is even\n",
      "16 is even\n",
      "276 is even\n",
      "188 is even\n"
     ]
    }
   ],
   "source": [
    "tuple4 = (20,10,16,19,25,1,276,188);\n",
    "for item in tuple4:\n",
    "    if(item % 2 == 0):\n",
    "        print(item, 'is even');"
   ]
  },
  {
   "cell_type": "code",
   "execution_count": null,
   "id": "2af9bc1a-56f1-4eb2-85f0-436216ad6eb5",
   "metadata": {},
   "outputs": [],
   "source": []
  }
 ],
 "metadata": {
  "kernelspec": {
   "display_name": "Python 3 (ipykernel)",
   "language": "python",
   "name": "python3"
  },
  "language_info": {
   "codemirror_mode": {
    "name": "ipython",
    "version": 3
   },
   "file_extension": ".py",
   "mimetype": "text/x-python",
   "name": "python",
   "nbconvert_exporter": "python",
   "pygments_lexer": "ipython3",
   "version": "3.12.7"
  }
 },
 "nbformat": 4,
 "nbformat_minor": 5
}
