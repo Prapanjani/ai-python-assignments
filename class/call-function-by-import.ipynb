{
 "cells": [
  {
   "cell_type": "code",
   "execution_count": 2,
   "id": "e9707ee2-ba18-4d20-8df6-e85b01469fc1",
   "metadata": {},
   "outputs": [],
   "source": [
    "from multiFunction import MultipleFunctions"
   ]
  },
  {
   "cell_type": "code",
   "execution_count": 3,
   "id": "c85912df-91e3-4a38-9181-b3855c546d35",
   "metadata": {},
   "outputs": [
    {
     "name": "stdin",
     "output_type": "stream",
     "text": [
      "Enter the BMI Index: 16\n"
     ]
    },
    {
     "name": "stdout",
     "output_type": "stream",
     "text": [
      "Underweight\n"
     ]
    }
   ],
   "source": [
    "MultipleFunctions.bmi()"
   ]
  },
  {
   "cell_type": "code",
   "execution_count": 4,
   "id": "0c34e303-c0ce-4c36-9c02-928c50fd02d2",
   "metadata": {},
   "outputs": [
    {
     "name": "stdin",
     "output_type": "stream",
     "text": [
      "Enter a number: 33\n"
     ]
    },
    {
     "name": "stdout",
     "output_type": "stream",
     "text": [
      "33 is Odd Number\n"
     ]
    }
   ],
   "source": [
    "MultipleFunctions.oddEven()"
   ]
  },
  {
   "cell_type": "code",
   "execution_count": 5,
   "id": "22ec9d04-4b25-4eea-bf04-117b24850943",
   "metadata": {},
   "outputs": [
    {
     "name": "stdin",
     "output_type": "stream",
     "text": [
      "Your Gender: female\n",
      "Your Age: 26\n"
     ]
    },
    {
     "name": "stdout",
     "output_type": "stream",
     "text": [
      "ELIGIBLE\n"
     ]
    }
   ],
   "source": [
    "MultipleFunctions.eligibility()"
   ]
  },
  {
   "cell_type": "code",
   "execution_count": 6,
   "id": "aac97987-a46a-4961-a99e-522259ca38b5",
   "metadata": {},
   "outputs": [
    {
     "name": "stdin",
     "output_type": "stream",
     "text": [
      "Subject1= 100\n",
      "Subject2= 98\n",
      "Subject3= 99\n",
      "Subject4= 96\n",
      "Subject5= 95\n"
     ]
    },
    {
     "name": "stdout",
     "output_type": "stream",
     "text": [
      "Total: 488\n",
      "Percentage: 97.6 %\n"
     ]
    }
   ],
   "source": [
    "MultipleFunctions.percentage()"
   ]
  },
  {
   "cell_type": "code",
   "execution_count": 7,
   "id": "4057779d-d79c-48ff-96d2-4276d6f21908",
   "metadata": {},
   "outputs": [
    {
     "name": "stdin",
     "output_type": "stream",
     "text": [
      "Height: 70\n",
      "Breadth: 70\n"
     ]
    },
    {
     "name": "stdout",
     "output_type": "stream",
     "text": [
      "Area of Triangle: 2450.0\n"
     ]
    }
   ],
   "source": [
    "MultipleFunctions.area()"
   ]
  },
  {
   "cell_type": "code",
   "execution_count": 8,
   "id": "dfed0131-0735-47be-a2dd-1d652331f1e9",
   "metadata": {},
   "outputs": [
    {
     "name": "stdin",
     "output_type": "stream",
     "text": [
      "Height1: 100\n",
      "Height2: 100\n",
      "Breadth: 100\n"
     ]
    },
    {
     "name": "stdout",
     "output_type": "stream",
     "text": [
      "Perimeter of Triangle: 300\n"
     ]
    }
   ],
   "source": [
    "MultipleFunctions.perimeter()"
   ]
  },
  {
   "cell_type": "code",
   "execution_count": null,
   "id": "c4b23082-5497-4336-8866-d714c60286c5",
   "metadata": {},
   "outputs": [],
   "source": []
  }
 ],
 "metadata": {
  "kernelspec": {
   "display_name": "Python 3 (ipykernel)",
   "language": "python",
   "name": "python3"
  },
  "language_info": {
   "codemirror_mode": {
    "name": "ipython",
    "version": 3
   },
   "file_extension": ".py",
   "mimetype": "text/x-python",
   "name": "python",
   "nbconvert_exporter": "python",
   "pygments_lexer": "ipython3",
   "version": "3.13.5"
  }
 },
 "nbformat": 4,
 "nbformat_minor": 5
}
