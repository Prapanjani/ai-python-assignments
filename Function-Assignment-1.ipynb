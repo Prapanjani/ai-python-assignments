{
 "cells": [
  {
   "cell_type": "code",
   "execution_count": 1,
   "id": "83e8c654-6377-433e-bb4c-4c8490903ebc",
   "metadata": {},
   "outputs": [
    {
     "name": "stdout",
     "output_type": "stream",
     "text": [
      "Sub-fields in AI are:\n",
      "Machine Learning\n",
      "Neural Networks\n",
      "Vision\n",
      "Robotics\n",
      "Speech Processing\n",
      "Natural Language Processing\n"
     ]
    }
   ],
   "source": [
    "class SubfieldsInAI():\n",
    "    def Subfields():\n",
    "        list = [\"Machine Learning\", \"Neural Networks\", \"Vision\", \"Robotics\",\"Speech Processing\", \"Natural Language Processing\"]\n",
    "        print(\"Sub-fields in AI are:\")\n",
    "        for item in list:\n",
    "            print(item)\n",
    "SubfieldsInAI.Subfields()"
   ]
  },
  {
   "cell_type": "code",
   "execution_count": 3,
   "id": "9f883265-f0ef-484b-ac6d-92131fc695ce",
   "metadata": {},
   "outputs": [
    {
     "name": "stdin",
     "output_type": "stream",
     "text": [
      "Enter a number: 52452\n"
     ]
    },
    {
     "name": "stdout",
     "output_type": "stream",
     "text": [
      "52452 is Even Number\n"
     ]
    }
   ],
   "source": [
    "class OddEven():\n",
    "    def oddEven():\n",
    "        num = int(input(\"Enter a number:\"))\n",
    "        if(num % 2 == 0):\n",
    "            print(num, \"is Even Number\")\n",
    "        else:\n",
    "            print(num, \"is Odd Number\")\n",
    "OddEven.oddEven()"
   ]
  },
  {
   "cell_type": "code",
   "execution_count": 16,
   "id": "90654c57-ad1c-4765-b64d-a4168329d963",
   "metadata": {},
   "outputs": [
    {
     "name": "stdin",
     "output_type": "stream",
     "text": [
      "Your Gender: Male\n",
      "Your Age: 22\n"
     ]
    },
    {
     "name": "stdout",
     "output_type": "stream",
     "text": [
      "ELIGIBLE\n"
     ]
    }
   ],
   "source": [
    "class EligiblityForMarriage():\n",
    "    def eligibility():\n",
    "        gender = input(\"Your Gender:\")\n",
    "        if(gender.lower() =='male'or gender.lower() =='female'):\n",
    "            age = int(input(\"Your Age:\"))\n",
    "            if(gender.lower() == 'male'):\n",
    "                if(age >= 21):\n",
    "                    print(\"ELIGIBLE\")\n",
    "                else:\n",
    "                    print(\"NOT ELIGIBLE\")\n",
    "            elif(gender.lower() == 'female'):\n",
    "                if(age >= 18):\n",
    "                    print(\"ELIGIBLE\")\n",
    "                else:\n",
    "                    print(\"NOT ELIGIBLE\")\n",
    "        else:\n",
    "            print(\"Give correct input\")\n",
    "\n",
    "EligiblityForMarriage.eligibility()\n",
    "            "
   ]
  },
  {
   "cell_type": "code",
   "execution_count": 25,
   "id": "8fc68dd0-af5d-4326-824f-bf195a20e20c",
   "metadata": {},
   "outputs": [
    {
     "name": "stdin",
     "output_type": "stream",
     "text": [
      "Subject1= 90\n",
      "Subject2= 90\n",
      "Subject3= 90\n",
      "Subject4= 90\n",
      "Subject5= 90\n"
     ]
    },
    {
     "name": "stdout",
     "output_type": "stream",
     "text": [
      "Total: 450\n",
      "Percentage: 90.0 %\n"
     ]
    }
   ],
   "source": [
    "class FindPercent():\n",
    "    def percentage():\n",
    "        sub1 = int(input(\"Subject1=\"))\n",
    "        sub2 = int(input(\"Subject2=\"))\n",
    "        sub3 = int(input(\"Subject3=\"))\n",
    "        sub4 = int(input(\"Subject4=\"))\n",
    "        sub5 = int(input(\"Subject5=\"))\n",
    "        total = sub1 + sub2 + sub3 + sub4 + sub5\n",
    "        print(\"Total:\", total)\n",
    "        percentage = (total/500)*100\n",
    "        print(\"Percentage:\", percentage, \"%\")\n",
    "        \n",
    "FindPercent.percentage()\n"
   ]
  },
  {
   "cell_type": "code",
   "execution_count": 28,
   "id": "c1607f34-a321-41ff-98b7-6a65038e285a",
   "metadata": {},
   "outputs": [
    {
     "name": "stdin",
     "output_type": "stream",
     "text": [
      "Height: 100\n",
      "Breadth: 100\n"
     ]
    },
    {
     "name": "stdout",
     "output_type": "stream",
     "text": [
      "Area of Triangle: 5000.0\n"
     ]
    },
    {
     "name": "stdin",
     "output_type": "stream",
     "text": [
      "Height1: 100\n",
      "Height2: 1000\n",
      "Breadth: 1000\n"
     ]
    },
    {
     "name": "stdout",
     "output_type": "stream",
     "text": [
      "Perimeter of Triangle: 2100\n"
     ]
    }
   ],
   "source": [
    "class Triangle():\n",
    "    def area():\n",
    "        height= int(input(\"Height:\"))\n",
    "        breadth= int(input(\"Breadth:\"))\n",
    "        area = (height * breadth) / 2\n",
    "        print(\"Area of Triangle:\", area)\n",
    "\n",
    "    def perimeter():\n",
    "        height1 = int(input(\"Height1:\"))\n",
    "        height2 = int(input(\"Height2:\"))\n",
    "        breadth = int(input(\"Breadth:\"))\n",
    "        perimeter = height1 + height2 + breadth\n",
    "        print(\"Perimeter of Triangle:\", perimeter)\n",
    "Triangle.area()\n",
    "Triangle.perimeter()"
   ]
  },
  {
   "cell_type": "code",
   "execution_count": 38,
   "id": "2d531484-3f73-4b80-bbc9-ebb61df119ab",
   "metadata": {},
   "outputs": [],
   "source": []
  },
  {
   "cell_type": "code",
   "execution_count": null,
   "id": "fdd99b55-4178-4812-bf23-af44589c2788",
   "metadata": {},
   "outputs": [],
   "source": []
  }
 ],
 "metadata": {
  "kernelspec": {
   "display_name": "Python 3 (ipykernel)",
   "language": "python",
   "name": "python3"
  },
  "language_info": {
   "codemirror_mode": {
    "name": "ipython",
    "version": 3
   },
   "file_extension": ".py",
   "mimetype": "text/x-python",
   "name": "python",
   "nbconvert_exporter": "python",
   "pygments_lexer": "ipython3",
   "version": "3.13.5"
  }
 },
 "nbformat": 4,
 "nbformat_minor": 5
}
