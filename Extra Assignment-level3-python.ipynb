{
 "cells": [
  {
   "cell_type": "code",
   "execution_count": 4,
   "id": "944ce463-4c35-4165-884e-0cc221a7c88c",
   "metadata": {},
   "outputs": [
    {
     "name": "stdout",
     "output_type": "stream",
     "text": [
      "Value 10\n",
      "Correct\n"
     ]
    }
   ],
   "source": [
    "value = 10;\n",
    "print(\"Value\", value);\n",
    "if(value == 10):\n",
    "    print(\"Correct\");"
   ]
  },
  {
   "cell_type": "code",
   "execution_count": 10,
   "id": "cfddf96b-f3f6-4934-b148-71ef305d976f",
   "metadata": {},
   "outputs": [
    {
     "name": "stdin",
     "output_type": "stream",
     "text": [
      "Enter your password HOPE@123\n"
     ]
    },
    {
     "name": "stdout",
     "output_type": "stream",
     "text": [
      "Your Password is correct\n"
     ]
    }
   ],
   "source": [
    "pwd = 'HOPE@123';\n",
    "userInput = input('Enter your password');\n",
    "if(userInput == pwd):\n",
    "    print('Your Password is correct');\n",
    "else:\n",
    "    print('Your Password is incorrect');"
   ]
  },
  {
   "cell_type": "code",
   "execution_count": 24,
   "id": "37cfc2a2-2c03-4611-b3c5-f8ad2fd9423c",
   "metadata": {},
   "outputs": [
    {
     "name": "stdin",
     "output_type": "stream",
     "text": [
      "age: 20\n"
     ]
    },
    {
     "name": "stdout",
     "output_type": "stream",
     "text": [
      "Adult\n"
     ]
    }
   ],
   "source": [
    "age = int(input('age:'));\n",
    "if(age <= 20):\n",
    "    print('Adult');\n",
    "elif(age <= 40):\n",
    "    print('Citizen');\n",
    "else:\n",
    "    print('Senior Citizen')"
   ]
  },
  {
   "cell_type": "code",
   "execution_count": 30,
   "id": "8573ab52-45a9-424e-b894-94113771954b",
   "metadata": {},
   "outputs": [
    {
     "name": "stdin",
     "output_type": "stream",
     "text": [
      "Enter any number 1\n"
     ]
    },
    {
     "name": "stdout",
     "output_type": "stream",
     "text": [
      "No is positive\n"
     ]
    }
   ],
   "source": [
    "number = int(input('Enter any number'));\n",
    "if(number > 0):\n",
    "    print('No is positive');\n",
    "else:\n",
    "    print('No is negative');"
   ]
  },
  {
   "cell_type": "code",
   "execution_count": 40,
   "id": "cbac183b-df4e-4558-8902-bac118c22c79",
   "metadata": {},
   "outputs": [
    {
     "name": "stdin",
     "output_type": "stream",
     "text": [
      "Enter a number to check: 22\n"
     ]
    },
    {
     "name": "stdout",
     "output_type": "stream",
     "text": [
      "Number is not divisible by 5\n"
     ]
    }
   ],
   "source": [
    "num = int(input(\"Enter a number to check:\"));\n",
    "if(num % 5 == 0):\n",
    "    print(\"Number is divisible by 5\");\n",
    "else:\n",
    "    print(\"Number is not divisible by 5\");"
   ]
  },
  {
   "cell_type": "code",
   "execution_count": null,
   "id": "4e55c3e6-1f34-4520-bd60-9b3c9f122a4a",
   "metadata": {},
   "outputs": [],
   "source": []
  }
 ],
 "metadata": {
  "kernelspec": {
   "display_name": "Python 3 (ipykernel)",
   "language": "python",
   "name": "python3"
  },
  "language_info": {
   "codemirror_mode": {
    "name": "ipython",
    "version": 3
   },
   "file_extension": ".py",
   "mimetype": "text/x-python",
   "name": "python",
   "nbconvert_exporter": "python",
   "pygments_lexer": "ipython3",
   "version": "3.12.7"
  }
 },
 "nbformat": 4,
 "nbformat_minor": 5
}
