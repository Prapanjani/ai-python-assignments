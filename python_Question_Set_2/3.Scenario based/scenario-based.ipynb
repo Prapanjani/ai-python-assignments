{
 "cells": [
  {
   "cell_type": "code",
   "execution_count": 4,
   "id": "da08224f-b420-4b4c-9c26-e40ffe415324",
   "metadata": {},
   "outputs": [
    {
     "name": "stdin",
     "output_type": "stream",
     "text": [
      "Enter amount 100\n"
     ]
    },
    {
     "name": "stdout",
     "output_type": "stream",
     "text": [
      "Positive\n"
     ]
    }
   ],
   "source": [
    "#logic to determine whether the amount is positive, negative, or zero\n",
    "def checkTransAmount():\n",
    "    amount = int(input(\"Enter amount\"))\n",
    "    if(amount > 0):\n",
    "        print(\"Positive\")\n",
    "    elif(amount < 0):\n",
    "        print(\"Negative\")\n",
    "    else:\n",
    "        print(\"Zero\")\n",
    "        \n",
    "checkTransAmount()"
   ]
  },
  {
   "cell_type": "code",
   "execution_count": 15,
   "id": "c4294408-83df-4734-8fba-134868c9982b",
   "metadata": {},
   "outputs": [
    {
     "name": "stdin",
     "output_type": "stream",
     "text": [
      "Enter a numerical passcode 1234\n"
     ]
    },
    {
     "data": {
      "text/plain": [
       "10"
      ]
     },
     "execution_count": 15,
     "metadata": {},
     "output_type": "execute_result"
    }
   ],
   "source": [
    "#logic to compute the sum of the digits of a given number\n",
    "\n",
    "def sumOfDigits():\n",
    "    passcode = int(input(\"Enter a numerical passcode\"))\n",
    "    sumOfDigit = 0\n",
    "    for i in str(passcode):\n",
    "        sumOfDigit += int(i)\n",
    "    return sumOfDigit\n",
    "\n",
    "sumOfDigits()"
   ]
  },
  {
   "cell_type": "code",
   "execution_count": 12,
   "id": "7dcf86bf-27fb-465f-bbbc-c82f2b2f1706",
   "metadata": {},
   "outputs": [
    {
     "name": "stdin",
     "output_type": "stream",
     "text": [
      "Enter a transaction ID 1234\n"
     ]
    },
    {
     "data": {
      "text/plain": [
       "4321"
      ]
     },
     "execution_count": 12,
     "metadata": {},
     "output_type": "execute_result"
    }
   ],
   "source": [
    "#logic to take a number and return its reverse\n",
    "def reverseTransId():\n",
    "    transId = input(\"Enter a transaction ID\")\n",
    "    try:\n",
    "        num = int(transId)\n",
    "    except ValueError:\n",
    "        print(\"Invalid input. Please enter a valid number.\")\n",
    "    else:\n",
    "        reverseIdStr = transId[::-1]\n",
    "        reverseId = int(reverseIdStr)\n",
    "        return reverseId\n",
    "        \n",
    "reverseTransId()"
   ]
  },
  {
   "cell_type": "code",
   "execution_count": 18,
   "id": "3ad52bf7-d361-4cb5-a792-34a140e491fe",
   "metadata": {},
   "outputs": [
    {
     "name": "stdin",
     "output_type": "stream",
     "text": [
      "Enter a number: 3\n"
     ]
    },
    {
     "name": "stdout",
     "output_type": "stream",
     "text": [
      "Not prime number\n"
     ]
    }
   ],
   "source": [
    "#logic to check if a given number is prime\n",
    "import math\n",
    "def checkPrimeNo(n):\n",
    "    if n <= 1:\n",
    "        return False\n",
    "    for i in range(2, int(math.sqrt(n) + 1)):\n",
    "        if n % i == 0:\n",
    "            return False\n",
    "        return True\n",
    "\n",
    "num = int(input(\"Enter a number:\"))\n",
    "if checkPrimeNo(num):\n",
    "    print(\"Entered number is Prime Number\")\n",
    "else:\n",
    "    print(\"Not prime number\")\n"
   ]
  },
  {
   "cell_type": "code",
   "execution_count": 20,
   "id": "ebf6a650-63fd-4a27-9e67-77cb566fd256",
   "metadata": {},
   "outputs": [
    {
     "name": "stdout",
     "output_type": "stream",
     "text": [
      "120\n"
     ]
    }
   ],
   "source": [
    "#logic to find the factorial of a given number using recursion\n",
    "\n",
    "def factRecursive(n):\n",
    "    if n == 0  or n == 1:\n",
    "        return 1\n",
    "    else:\n",
    "        return n * factRecursive(n - 1)\n",
    "\n",
    "print(factRecursive(5))"
   ]
  },
  {
   "cell_type": "code",
   "execution_count": 27,
   "id": "00e94207-423a-4d4f-a1b7-f00eedd4fdb7",
   "metadata": {},
   "outputs": [
    {
     "name": "stdout",
     "output_type": "stream",
     "text": [
      "Is 153 an Armstrong number? True\n"
     ]
    }
   ],
   "source": [
    "#logic to check whether a given number is an Armstrong number\n",
    "def armstrongNo(n):\n",
    "    if n < 0:\n",
    "        return False\n",
    "    numStr = str(n)\n",
    "    numDigit = len(numStr)\n",
    "    sumOfDigits = 0\n",
    "    for i in numStr:\n",
    "        digit = int(i)\n",
    "        sumOfDigits += digit ** numDigit\n",
    "    return n == sumOfDigits\n",
    "\n",
    "print(f\"Is 153 an Armstrong number? {armstrongNo(153)}\")"
   ]
  },
  {
   "cell_type": "code",
   "execution_count": 31,
   "id": "12b5637a-504a-4f0f-92e1-6e08589c3fc0",
   "metadata": {},
   "outputs": [
    {
     "name": "stdin",
     "output_type": "stream",
     "text": [
      "Enter your password hello world\n"
     ]
    },
    {
     "name": "stdout",
     "output_type": "stream",
     "text": [
      "h d ello worl\n",
      "dello worlh\n"
     ]
    }
   ],
   "source": [
    "#swapping the first and last characters of user-generated passwords\n",
    "userPass = input(\"Enter your password\")\n",
    "def strongPass(userPass):\n",
    "    firstChar = userPass[0]\n",
    "    lastChar = userPass [-1]\n",
    "    restString = userPass[1:len(userPass)-1]\n",
    "    print(firstChar, lastChar, restString)\n",
    "    return lastChar + restString + firstChar\n",
    "print(strongPass(userPass))"
   ]
  },
  {
   "cell_type": "code",
   "execution_count": 42,
   "id": "d362b765-a922-4c05-a570-a831076cad43",
   "metadata": {},
   "outputs": [
    {
     "name": "stdout",
     "output_type": "stream",
     "text": [
      "The binary equivalent of 42 is: 101010\n"
     ]
    }
   ],
   "source": [
    "#logic to convert a given decimal number into its binary equivalent\n",
    "def decimal_to_binary(num):\n",
    "    if num == 0:\n",
    "        return \"0\"\n",
    "    binaryNum = ''\n",
    "    while num > 0:\n",
    "        remainder = num % 2\n",
    "        binaryNum = str(remainder) + binaryNum\n",
    "        num //= 2\n",
    "    return binaryNum\n",
    "binary_result = decimal_to_binary(42)\n",
    "print(f\"The binary equivalent of {number} is: {binary_result}\")"
   ]
  },
  {
   "cell_type": "code",
   "execution_count": 53,
   "id": "4b6f3f32-903a-4548-9eda-26292aa7d185",
   "metadata": {},
   "outputs": [
    {
     "name": "stdout",
     "output_type": "stream",
     "text": [
      "programming\n"
     ]
    }
   ],
   "source": [
    "#logic to find the longest word in a sentence\n",
    "def longestWord(sentence):\n",
    "    wordList = sentence.split()\n",
    "    if len(wordList):\n",
    "        largestWord = wordList[0]\n",
    "        for i in wordList:\n",
    "            if len(i) > len(largestWord):\n",
    "                largestWord = i\n",
    "        print(largestWord)\n",
    "    else:\n",
    "        print(\"No text\")\n",
    "\n",
    "longestWord(\"Python is a popular programming language.\")\n",
    "    "
   ]
  },
  {
   "cell_type": "code",
   "execution_count": 58,
   "id": "33dd1866-6335-4790-8ab6-db318c58791d",
   "metadata": {},
   "outputs": [
    {
     "name": "stdout",
     "output_type": "stream",
     "text": [
      "True\n",
      "False\n"
     ]
    }
   ],
   "source": [
    "#logic to check whether two given strings are anagrams\n",
    "def anagram(str1, str2):\n",
    "    str1 = str1.lower()\n",
    "    str2 = str2.lower()\n",
    "\n",
    "    if len(str1) != len(str2):\n",
    "        return False\n",
    "\n",
    "    return sorted(str1) == sorted(str2)\n",
    "\n",
    "string1 = \"Silent\"\n",
    "string2 = \"Listen\"\n",
    "\n",
    "string3 = \"high\"\n",
    "string4 = \"Hi\"\n",
    "print(anagram(string1, string2))\n",
    "print(anagram(string3, string4))"
   ]
  },
  {
   "cell_type": "code",
   "execution_count": null,
   "id": "c7a93cc9-ae2c-43ba-a3cf-64660577d02b",
   "metadata": {},
   "outputs": [],
   "source": []
  }
 ],
 "metadata": {
  "kernelspec": {
   "display_name": "Python 3 (ipykernel)",
   "language": "python",
   "name": "python3"
  },
  "language_info": {
   "codemirror_mode": {
    "name": "ipython",
    "version": 3
   },
   "file_extension": ".py",
   "mimetype": "text/x-python",
   "name": "python",
   "nbconvert_exporter": "python",
   "pygments_lexer": "ipython3",
   "version": "3.13.5"
  }
 },
 "nbformat": 4,
 "nbformat_minor": 5
}
