{
 "cells": [
  {
   "cell_type": "code",
   "execution_count": 2,
   "id": "1e00e24b-9e54-42d7-80fb-b13228cbfa72",
   "metadata": {},
   "outputs": [
    {
     "name": "stdout",
     "output_type": "stream",
     "text": [
      "HOPE AI\n"
     ]
    }
   ],
   "source": [
    "print(\"HOPE AI\");"
   ]
  },
  {
   "cell_type": "code",
   "execution_count": 6,
   "id": "f508ef7b-6f34-4e29-bf9c-dce5f23ae5e0",
   "metadata": {},
   "outputs": [
    {
     "name": "stdin",
     "output_type": "stream",
     "text": [
      "Enter your institue name: Hope AI\n"
     ]
    },
    {
     "data": {
      "text/plain": [
       "'Hope AI'"
      ]
     },
     "execution_count": 6,
     "metadata": {},
     "output_type": "execute_result"
    }
   ],
   "source": [
    "input(\"Enter your institue name:\")"
   ]
  },
  {
   "cell_type": "code",
   "execution_count": 12,
   "id": "ca54a923-345f-45b2-9b27-35286537ac0d",
   "metadata": {},
   "outputs": [
    {
     "name": "stdin",
     "output_type": "stream",
     "text": [
      "Enter your name Raj\n",
      "Enter your age 15\n",
      "Enter your school name Guru School\n",
      "Enter your degree B.E CSE\n"
     ]
    }
   ],
   "source": [
    "name = input(\"Enter your name\");\n",
    "age = int(input(\"Enter your age\"));\n",
    "school = input(\"Enter your school name\");\n",
    "degree = input(\"Enter your degree\");"
   ]
  },
  {
   "cell_type": "code",
   "execution_count": 14,
   "id": "bbebd4ee-0ce5-43c3-a307-bb5250526b46",
   "metadata": {},
   "outputs": [
    {
     "name": "stdout",
     "output_type": "stream",
     "text": [
      "a= 43\n",
      "b= 34\n",
      "add= 77\n"
     ]
    }
   ],
   "source": [
    "a = 43;\n",
    "b = 34;\n",
    "add = a + b;\n",
    "print(\"a=\", a);\n",
    "print(\"b=\", b);\n",
    "print(\"add=\", add);"
   ]
  },
  {
   "cell_type": "code",
   "execution_count": 16,
   "id": "9d5f2102-6984-4f22-a01e-603406649b44",
   "metadata": {},
   "outputs": [
    {
     "name": "stdout",
     "output_type": "stream",
     "text": [
      "a= 43\n",
      "b= 34\n",
      "Sub= 9\n"
     ]
    }
   ],
   "source": [
    "c = 43;\n",
    "d = 34;\n",
    "sub = c - d;\n",
    "print(\"a=\", c);\n",
    "print(\"b=\", d);\n",
    "print(\"Sub=\", sub);"
   ]
  },
  {
   "cell_type": "code",
   "execution_count": 18,
   "id": "30714ef8-3120-4a74-a877-7e1224aa80f4",
   "metadata": {},
   "outputs": [
    {
     "name": "stdout",
     "output_type": "stream",
     "text": [
      "a= 63\n",
      "b= 97\n",
      "Mul= 6111\n"
     ]
    }
   ],
   "source": [
    "e = 63;\n",
    "f = 97;\n",
    "mul = e * f;\n",
    "print(\"a=\", e);\n",
    "print(\"b=\", f);\n",
    "print(\"Mul=\", mul);"
   ]
  },
  {
   "cell_type": "code",
   "execution_count": 20,
   "id": "3fcdb7dc-a6cf-44b0-a264-39f8dd46a99a",
   "metadata": {},
   "outputs": [
    {
     "name": "stdout",
     "output_type": "stream",
     "text": [
      "a= 76\n",
      "b= 31\n",
      "Float Div= 2.4516129032258065\n"
     ]
    }
   ],
   "source": [
    "g = 76;\n",
    "h = 31;\n",
    "div = g / h;\n",
    "print(\"a=\", g);\n",
    "print(\"b=\", h);\n",
    "print(\"Float Div=\", div);"
   ]
  },
  {
   "cell_type": "code",
   "execution_count": 24,
   "id": "9d7c08dc-0402-4495-b91f-dd2e778e2938",
   "metadata": {},
   "outputs": [
    {
     "name": "stdout",
     "output_type": "stream",
     "text": [
      "a= 76\n",
      "b= 31\n",
      "Float Div= 2\n"
     ]
    }
   ],
   "source": [
    "i = 76;\n",
    "j = 31;\n",
    "floorDiv = i // j;\n",
    "print(\"a=\", i);\n",
    "print(\"b=\", j);\n",
    "print(\"Floor Div=\", floorDiv);"
   ]
  },
  {
   "cell_type": "code",
   "execution_count": 26,
   "id": "dbdb40d0-1a9d-4164-90f3-42ba2ad909cc",
   "metadata": {},
   "outputs": [
    {
     "name": "stdout",
     "output_type": "stream",
     "text": [
      "a= 76\n",
      "b= 31\n",
      "Modulo= 2\n"
     ]
    }
   ],
   "source": [
    "k = 76;\n",
    "l = 31;\n",
    "modulo = k // l;\n",
    "print(\"a=\", k);\n",
    "print(\"b=\", l);\n",
    "print(\"Modulo=\", modulo);"
   ]
  },
  {
   "cell_type": "code",
   "execution_count": 28,
   "id": "27b00388-c1ad-4512-b0cc-4da13acfef4e",
   "metadata": {},
   "outputs": [
    {
     "name": "stdout",
     "output_type": "stream",
     "text": [
      "a= 4\n",
      "b= 4\n",
      "Modulo= 16\n"
     ]
    }
   ],
   "source": [
    "m = 4;\n",
    "n = 4;\n",
    "power = pow(m, n);\n",
    "print(\"a=\", m);\n",
    "print(\"b=\", n);\n",
    "print(\"Modulo=\", m * n);"
   ]
  },
  {
   "cell_type": "code",
   "execution_count": null,
   "id": "fe06e0eb-9671-48df-bec5-cdfa9a8c92ec",
   "metadata": {},
   "outputs": [],
   "source": []
  }
 ],
 "metadata": {
  "kernelspec": {
   "display_name": "Python 3 (ipykernel)",
   "language": "python",
   "name": "python3"
  },
  "language_info": {
   "codemirror_mode": {
    "name": "ipython",
    "version": 3
   },
   "file_extension": ".py",
   "mimetype": "text/x-python",
   "name": "python",
   "nbconvert_exporter": "python",
   "pygments_lexer": "ipython3",
   "version": "3.12.7"
  }
 },
 "nbformat": 4,
 "nbformat_minor": 5
}
