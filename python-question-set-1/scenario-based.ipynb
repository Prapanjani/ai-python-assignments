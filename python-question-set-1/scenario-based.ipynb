{
 "cells": [
  {
   "cell_type": "code",
   "execution_count": 3,
   "id": "53519506-2f9a-4c4b-be73-2ae13855e599",
   "metadata": {},
   "outputs": [
    {
     "name": "stdin",
     "output_type": "stream",
     "text": [
      "Enter your age 11\n"
     ]
    },
    {
     "name": "stdout",
     "output_type": "stream",
     "text": [
      "You are not eligible to vote\n"
     ]
    }
   ],
   "source": [
    "#Find vote eligibility\n",
    "age = int(input(\"Enter your age:\"))\n",
    "if(age >= 18):\n",
    "    print(\"You are eligible to vote\")\n",
    "else:\n",
    "    print(\"You are not eligible to vote\")"
   ]
  },
  {
   "cell_type": "code",
   "execution_count": 4,
   "id": "5be1a240-ebb7-4d9f-986e-10ba1ae3e675",
   "metadata": {},
   "outputs": [
    {
     "name": "stdout",
     "output_type": "stream",
     "text": [
      "500\n"
     ]
    }
   ],
   "source": [
    "#Find largest number\n",
    "list = [21,56,100,399,500,34,26]\n",
    "print(max(list))"
   ]
  },
  {
   "cell_type": "code",
   "execution_count": 3,
   "id": "d24e3c4b-4aa0-4898-aea8-fdedeb153ef8",
   "metadata": {},
   "outputs": [
    {
     "name": "stdin",
     "output_type": "stream",
     "text": [
      "Enter your income 3000\n"
     ]
    },
    {
     "name": "stdout",
     "output_type": "stream",
     "text": [
      "Not eligible for bonus\n"
     ]
    }
   ],
   "source": [
    "#Find Bonus\n",
    "salary = int(input(\"Enter your income\"))\n",
    "if(salary >= 50000):\n",
    "    bonus = (0.1 * salary)\n",
    "    print(bonus)\n",
    "else:\n",
    "    print(\"Not eligible for bonus\")"
   ]
  },
  {
   "cell_type": "code",
   "execution_count": 6,
   "id": "09a7e8e6-3e31-4947-a640-985847f34a34",
   "metadata": {},
   "outputs": [
    {
     "name": "stdin",
     "output_type": "stream",
     "text": [
      "Enter number 22\n"
     ]
    },
    {
     "name": "stdout",
     "output_type": "stream",
     "text": [
      "Even number\n"
     ]
    }
   ],
   "source": [
    "#Odd or even\n",
    "number = int(input(\"Enter number\"))\n",
    "if(number % 2 == 0):\n",
    "    print(\"Even number\")\n",
    "else:\n",
    "    print(\"Odd number\")"
   ]
  },
  {
   "cell_type": "code",
   "execution_count": 9,
   "id": "ff14fa2b-0103-49b3-be28-6cb63da167af",
   "metadata": {},
   "outputs": [
    {
     "name": "stdin",
     "output_type": "stream",
     "text": [
      "Enter word or sentence hekki\n"
     ]
    },
    {
     "name": "stdout",
     "output_type": "stream",
     "text": [
      "h\n",
      "eh\n",
      "keh\n",
      "kkeh\n",
      "ikkeh\n"
     ]
    }
   ],
   "source": [
    "#Reverse given character using for loop\n",
    "string = input(\"Enter word or sentence\")\n",
    "reversedString =\"\"\n",
    "for char in string:\n",
    "    reversedString = char + reversedString\n",
    "    print(reversedString)\n",
    "    \n",
    "    "
   ]
  },
  {
   "cell_type": "code",
   "execution_count": 10,
   "id": "76523e10-95d9-4b00-bca8-561e2cde24b2",
   "metadata": {},
   "outputs": [
    {
     "name": "stdin",
     "output_type": "stream",
     "text": [
      "Enter word or sentence hello kitty\n"
     ]
    },
    {
     "name": "stdout",
     "output_type": "stream",
     "text": [
      "yttik olleh\n"
     ]
    }
   ],
   "source": [
    "#Reverse given character using while loop\n",
    "string = input(\"Enter word or sentence\")\n",
    "length = len(string) - 1\n",
    "reversedString = \"\"\n",
    "while length >= 0:\n",
    "    reversedString += string[length]\n",
    "    length = length -1\n",
    "print(reversedString)"
   ]
  },
  {
   "cell_type": "code",
   "execution_count": 15,
   "id": "2130ab2e-24ea-4f1c-a1e1-1410e5f9894f",
   "metadata": {},
   "outputs": [
    {
     "name": "stdin",
     "output_type": "stream",
     "text": [
      "Enter word or sentence My Coding World\n"
     ]
    },
    {
     "name": "stdout",
     "output_type": "stream",
     "text": [
      "dlroW gnidoC yM\n"
     ]
    }
   ],
   "source": [
    "#Reverse givnd character using inbuilt function\n",
    "string = input(\"Enter word or sentence\")\n",
    "reversedString = \"\".join(reversed(string))\n",
    "print(reversedString)"
   ]
  },
  {
   "cell_type": "code",
   "execution_count": 17,
   "id": "e6e2abc3-0625-48d3-8c7f-b46bea3a4541",
   "metadata": {},
   "outputs": [
    {
     "name": "stdin",
     "output_type": "stream",
     "text": [
      "Enter a word or sentence My Life\n"
     ]
    },
    {
     "name": "stdout",
     "output_type": "stream",
     "text": [
      "efiL yM\n"
     ]
    }
   ],
   "source": [
    "#Reverse using Slicing method\n",
    "string=input(\"Enter a word or sentence\")\n",
    "reversedString = string[::-1]\n",
    "print(reversedString)"
   ]
  },
  {
   "cell_type": "code",
   "execution_count": 20,
   "id": "1132f0d6-0da2-4f68-b90a-b884871de386",
   "metadata": {},
   "outputs": [
    {
     "name": "stdin",
     "output_type": "stream",
     "text": [
      "Enter your marks 100\n"
     ]
    },
    {
     "name": "stdout",
     "output_type": "stream",
     "text": [
      "Pass\n"
     ]
    }
   ],
   "source": [
    "#Check result by score\n",
    "marks = int(input(\"Enter your marks\"))\n",
    "if(marks >= 40):\n",
    "    print(\"Pass\")\n",
    "else:\n",
    "    print(\"Fail\")"
   ]
  },
  {
   "cell_type": "code",
   "execution_count": 27,
   "id": "31a9e695-fdd3-42df-ab71-d81a9675891f",
   "metadata": {},
   "outputs": [
    {
     "name": "stdin",
     "output_type": "stream",
     "text": [
      "Enter your purchased amount 500\n"
     ]
    },
    {
     "name": "stdout",
     "output_type": "stream",
     "text": [
      "400.0\n"
     ]
    }
   ],
   "source": [
    "#Find final amount after applying discount\n",
    "purchase_amount = int(input(\"Enter your purchased amount\"))\n",
    "if(purchase_amount >= 100):\n",
    "    discount = purchase_amount * 0.2\n",
    "    print(purchase_amount - discount)\n",
    "else:\n",
    "    print(purchase_amount)\n",
    "    "
   ]
  },
  {
   "cell_type": "code",
   "execution_count": 31,
   "id": "f881f8fc-2f4e-49b2-8ef0-e5ee89fc6acf",
   "metadata": {},
   "outputs": [
    {
     "name": "stdin",
     "output_type": "stream",
     "text": [
      "Enter needed amount 60000\n"
     ]
    },
    {
     "name": "stdout",
     "output_type": "stream",
     "text": [
      "You not have enough money\n"
     ]
    }
   ],
   "source": [
    "#Find enough amount and return balance amount\n",
    "withdraw_money = int(input(\"Enter needed amount\"))\n",
    "balance = 50000\n",
    "if(balance >= withdraw_money):\n",
    "    print(\"You have enough money and your remaining balance will be:\", balance - withdraw_money)\n",
    "else:\n",
    "    print(\"You not have enough money\")"
   ]
  },
  {
   "cell_type": "code",
   "execution_count": 40,
   "id": "55a75ef8-43b4-47f4-90d3-84a4cacb84ff",
   "metadata": {},
   "outputs": [
    {
     "name": "stdin",
     "output_type": "stream",
     "text": [
      "Enter the year 2000\n"
     ]
    },
    {
     "name": "stdout",
     "output_type": "stream",
     "text": [
      "Its a leap year\n"
     ]
    }
   ],
   "source": [
    "#Find leap year\n",
    "\n",
    "##Rules:\n",
    "# If the year is evenly divisible by 4, go to step 2. Otherwise, go to step 5.\n",
    "# If the year is evenly divisible by 100, go to step 3. Otherwise, go to step 4.\n",
    "# If the year is evenly divisible by 400, go to step 4. Otherwise, go to step 5.\n",
    "# The year is a leap year (it has 366 days).\n",
    "# The year is not a leap year (it has 365 days).\n",
    "\n",
    "year = int(input(\"Enter the year\"))\n",
    "if(year % 4 == 0):\n",
    "   if(year % 100 == 0):\n",
    "       if(year % 400 == 0):\n",
    "           print(\"Its a leap year\")\n",
    "       else:\n",
    "           print(\"Its not a leap year\")\n",
    "   else:\n",
    "       print(\"Its a leap yearr\")\n",
    "else:\n",
    "    print(\"Not leap year\")"
   ]
  },
  {
   "cell_type": "code",
   "execution_count": 41,
   "id": "b798e6b5-dbda-487a-94a6-b3844166f9d7",
   "metadata": {},
   "outputs": [
    {
     "name": "stdout",
     "output_type": "stream",
     "text": [
      "[10, 30, 44, 98, 100]\n"
     ]
    }
   ],
   "source": [
    "# Filter even number\n",
    "list = [10,23, 30, 44, 45,87,98,99,100]\n",
    "even_number = []\n",
    "for num in list:\n",
    "    if(num % 2 == 0):\n",
    "        even_number.append(num)\n",
    "print(even_number)"
   ]
  },
  {
   "cell_type": "code",
   "execution_count": null,
   "id": "5d553254-ec0a-4545-bbdb-ec08465ab88f",
   "metadata": {},
   "outputs": [],
   "source": []
  }
 ],
 "metadata": {
  "kernelspec": {
   "display_name": "Python 3 (ipykernel)",
   "language": "python",
   "name": "python3"
  },
  "language_info": {
   "codemirror_mode": {
    "name": "ipython",
    "version": 3
   },
   "file_extension": ".py",
   "mimetype": "text/x-python",
   "name": "python",
   "nbconvert_exporter": "python",
   "pygments_lexer": "ipython3",
   "version": "3.13.5"
  }
 },
 "nbformat": 4,
 "nbformat_minor": 5
}
