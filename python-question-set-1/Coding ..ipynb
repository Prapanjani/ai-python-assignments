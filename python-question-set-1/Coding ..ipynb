{
 "cells": [
  {
   "cell_type": "code",
   "execution_count": 1,
   "id": "5fd5c475",
   "metadata": {},
   "outputs": [
    {
     "name": "stdout",
     "output_type": "stream",
     "text": [
      "1\n",
      "2\n",
      "3\n",
      "4\n",
      "5\n"
     ]
    }
   ],
   "source": [
    "# 1.Write a Python program that prints numbers from 1 to 5.\n",
    "# Expected Output:\n",
    "# 1 2 3 4 5\n",
    "\n",
    "for num in range(1,6):\n",
    "    print(num)\n"
   ]
  },
  {
   "cell_type": "code",
   "execution_count": 2,
   "id": "3c8bc472",
   "metadata": {},
   "outputs": [
    {
     "name": "stdout",
     "output_type": "stream",
     "text": [
      "2\n",
      "4\n",
      "6\n",
      "8\n",
      "10\n"
     ]
    }
   ],
   "source": [
    "# 2.Write a Python program to print the first 5 even numbers. Expected Output:\n",
    "# 2 4 6 8 10\n",
    "\n",
    "for num in range(2,12,2):\n",
    "    print(num)\n",
    "\n"
   ]
  },
  {
   "cell_type": "code",
   "execution_count": 3,
   "id": "5e7af211",
   "metadata": {},
   "outputs": [
    {
     "name": "stdout",
     "output_type": "stream",
     "text": [
      "55\n"
     ]
    }
   ],
   "source": [
    "# 3.Write a Python program to print the sum of numbers from 1 to 10. \n",
    "# Expected Output:55\n",
    "total = 0\n",
    "for num in range(1,11):\n",
    "    total += num\n",
    "print(total)\n"
   ]
  },
  {
   "cell_type": "code",
   "execution_count": 9,
   "id": "ac09aa1a",
   "metadata": {},
   "outputs": [
    {
     "name": "stdin",
     "output_type": "stream",
     "text": [
      "Enter any number 6\n"
     ]
    },
    {
     "name": "stdout",
     "output_type": "stream",
     "text": [
      "720\n"
     ]
    }
   ],
   "source": [
    "# 4.Write a Python function to find the factorial of 5. Expected Output:\n",
    "# 120\n",
    "\n",
    "number = int(input(\"Enter any number\")) + 1\n",
    "fact = 1\n",
    "for num in range(1, number):\n",
    "    fact *= num\n",
    "print(fact)"
   ]
  },
  {
   "cell_type": "code",
   "execution_count": 22,
   "id": "8ab9fc8a",
   "metadata": {},
   "outputs": [
    {
     "name": "stdin",
     "output_type": "stream",
     "text": [
      "Enter a number 7\n"
     ]
    },
    {
     "name": "stdout",
     "output_type": "stream",
     "text": [
      "7 is Prime number\n"
     ]
    }
   ],
   "source": [
    "# 5.Write a Python program to check if a number is prime. Expected Output (for input 7):\n",
    "# 7 is a prime number\n",
    "\n",
    "import math\n",
    "\n",
    "def isPrime(number):\n",
    "    if(number <= 1):\n",
    "        return False\n",
    "    for i in range(2, int(math.sqrt(number)) + 1):\n",
    "        if(number % i == 0):\n",
    "            return False\n",
    "    return True\n",
    "\n",
    "number = int(input(\"Enter a number\"))\n",
    "if isPrime(number):\n",
    "    print(number, \"is Prime number\")\n",
    "else:\n",
    "    print(number, \"is not a Prime number\")\n",
    "\n",
    "\n"
   ]
  },
  {
   "cell_type": "code",
   "execution_count": null,
   "id": "f93a4450-483f-414a-a7ee-24f29d245b7c",
   "metadata": {},
   "outputs": [],
   "source": []
  }
 ],
 "metadata": {
  "kernelspec": {
   "display_name": "Python 3 (ipykernel)",
   "language": "python",
   "name": "python3"
  },
  "language_info": {
   "codemirror_mode": {
    "name": "ipython",
    "version": 3
   },
   "file_extension": ".py",
   "mimetype": "text/x-python",
   "name": "python",
   "nbconvert_exporter": "python",
   "pygments_lexer": "ipython3",
   "version": "3.13.5"
  }
 },
 "nbformat": 4,
 "nbformat_minor": 5
}
